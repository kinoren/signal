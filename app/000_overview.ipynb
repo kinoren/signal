{
 "cells": [
  {
   "cell_type": "markdown",
   "metadata": {},
   "source": [
    "# VSB Power Line Fault Detection\n",
    "https://www.kaggle.com/c/vsb-power-line-fault-detection"
   ]
  },
  {
   "cell_type": "markdown",
   "metadata": {},
   "source": [
    "## 概要"
   ]
  },
  {
   "cell_type": "markdown",
   "metadata": {},
   "source": [
    "Your challenge is to detect partial discharge patterns in signals acquired from these power lines with a new meter designed at the ENET Centre at VŠB. Effective classifiers using this data will make it possible to continuously monitor power lines for faults."
   ]
  },
  {
   "cell_type": "markdown",
   "metadata": {},
   "source": [
    "時系列データを対象とした異常検知分類のコンペです。与えられた高次元データからtarget(0 or 1)を予測します。"
   ]
  },
  {
   "cell_type": "markdown",
   "metadata": {},
   "source": [
    "## 目標設定(定量)"
   ]
  },
  {
   "cell_type": "markdown",
   "metadata": {},
   "source": [
    "LBを見ると、145位までがメダル圏内であり、スコアは0.64139であることが分かります。<br>\n",
    "これを踏まえ、今回は0.65以上のスコアを達成することを目標とします。"
   ]
  },
  {
   "cell_type": "markdown",
   "metadata": {},
   "source": [
    "## 目標設定(定性)"
   ]
  },
  {
   "cell_type": "markdown",
   "metadata": {},
   "source": [
    "大規模な時系列データに対する機械学習モデルの実装方法を学習します。<br>\n",
    "また、コンペでは往々にしてLightGBMなどのGBDTモデルが時系列データにも有効であるため、こうしたモデルの作成にも挑戦します。"
   ]
  },
  {
   "cell_type": "markdown",
   "metadata": {},
   "source": [
    "## 以上"
   ]
  }
 ],
 "metadata": {
  "kernelspec": {
   "display_name": "Python 3",
   "language": "python",
   "name": "python3"
  },
  "language_info": {
   "codemirror_mode": {
    "name": "ipython",
    "version": 3
   },
   "file_extension": ".py",
   "mimetype": "text/x-python",
   "name": "python",
   "nbconvert_exporter": "python",
   "pygments_lexer": "ipython3",
   "version": "3.7.7"
  }
 },
 "nbformat": 4,
 "nbformat_minor": 4
}
